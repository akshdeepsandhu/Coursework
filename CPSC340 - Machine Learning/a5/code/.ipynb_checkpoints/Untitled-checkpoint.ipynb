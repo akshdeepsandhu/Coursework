{
 "cells": [
  {
   "cell_type": "code",
   "execution_count": 3,
   "metadata": {},
   "outputs": [],
   "source": [
    "import os\n",
    "import pickle\n",
    "import argparse\n",
    "import matplotlib.pyplot as plt\n",
    "import numpy as np\n",
    "from numpy.linalg import norm\n",
    "from sklearn.model_selection import train_test_split\n",
    "\n",
    "\n",
    "import utils\n",
    "import logReg\n",
    "from logReg import logRegL2, kernelLogRegL2\n",
    "from pca import PCA, AlternativePCA, RobustPCA\n",
    "\n",
    "def load_dataset(filename):\n",
    "    with open(os.path.join('..','data',filename), 'rb') as f:\n",
    "        return pickle.load(f)\n",
    "    \n",
    "    \n",
    "#load data\n",
    "dataset = load_dataset('nonLinearData.pkl')\n",
    "X = dataset['X']\n",
    "y = dataset['y']\n",
    "\n",
    "Xtrain, Xtest, ytrain, ytest = train_test_split(X,y,random_state=0)\n",
    "\n"
   ]
  },
  {
   "cell_type": "code",
   "execution_count": 6,
   "metadata": {},
   "outputs": [
    {
     "name": "stdout",
     "output_type": "stream",
     "text": [
      "Best tr lambda 0.0001\n",
      "Best tr sigma 0.01\n",
      "Best val lambda 1.0\n",
      "Best val sigma 0.1\n"
     ]
    }
   ],
   "source": [
    "dataset = load_dataset('nonLinearData.pkl')\n",
    "X = dataset['X']\n",
    "y = dataset['y']\n",
    "\n",
    "Xtrain, Xtest, ytrain, ytest = train_test_split(X,y,random_state=0)\n",
    "\n",
    "#create a range of hyperparameter values\n",
    "lammy_range = np.linspace(start=-4,stop=0,num=5)\n",
    "sigma_range = np.linspace(start=-2,stop=2,num=5)\n",
    "\n",
    "#create empty arrays for training and test error\n",
    "train_error, test_error = np.zeros((5,5)),np.zeros((5,5))\n",
    "\n",
    "min_train_er = np.inf\n",
    "min_val_er = np.inf\n",
    "\n",
    "opt_sigma_tr = np.nan\n",
    "opt_sigma_val = np.nan\n",
    "\n",
    "opt_lambda_tr = np.nan\n",
    "opt_lambda_val = np.nan\n",
    "\n",
    "for i in range(0,5):\n",
    "\n",
    "    lammy_temp = 10**lammy_range[i]\n",
    "\n",
    "    for j in range(0,5):\n",
    "\n",
    "        sigma_temp = 10**sigma_range[j]\n",
    "\n",
    "        #train and test\n",
    "        rbfKer =  kernelLogRegL2(kernel_fun=logReg.kernel_RBF,lammy=lammy_temp,sigma=sigma_temp)\n",
    "        rbfKer.fit(Xtrain,ytrain)\n",
    "\n",
    "        \n",
    "        train_error = np.mean(rbfKer.predict(Xtrain) != ytrain)\n",
    "        #add to test error array\n",
    "        test_error = np.mean(rbfKer.predict(Xtest) != ytest)\n",
    "        \n",
    "        if(train_error < min_train_er):\n",
    "            min_train_er  = train_error\n",
    "            opt_sigma_tr = sigma_temp\n",
    "            opt_lambda_tr = lammy_temp\n",
    "        \n",
    "        if(test_error < min_val_er):\n",
    "            min_val_er = test_error\n",
    "            opt_sigma_val = sigma_temp\n",
    "            opt_lambda_val = lammy_temp\n",
    "        \n",
    "print(\"Best tr lambda \" +  str(opt_lambda_tr));print(\"Best tr sigma \" + str(opt_sigma_tr))\n",
    "print(\"Best val lambda \" + str(opt_lambda_val));print(\"Best val sigma \" + str(opt_sigma_val));"
   ]
  },
  {
   "cell_type": "code",
   "execution_count": 9,
   "metadata": {},
   "outputs": [
    {
     "name": "stdout",
     "output_type": "stream",
     "text": [
      "0.0\n"
     ]
    }
   ],
   "source": []
  },
  {
   "cell_type": "code",
   "execution_count": 10,
   "metadata": {},
   "outputs": [
    {
     "data": {
      "text/plain": [
       "0.0001"
      ]
     },
     "execution_count": 10,
     "metadata": {},
     "output_type": "execute_result"
    }
   ],
   "source": [
    "10**-4"
   ]
  },
  {
   "cell_type": "code",
   "execution_count": null,
   "metadata": {},
   "outputs": [],
   "source": []
  }
 ],
 "metadata": {
  "kernelspec": {
   "display_name": "Python 3",
   "language": "python",
   "name": "python3"
  },
  "language_info": {
   "codemirror_mode": {
    "name": "ipython",
    "version": 3
   },
   "file_extension": ".py",
   "mimetype": "text/x-python",
   "name": "python",
   "nbconvert_exporter": "python",
   "pygments_lexer": "ipython3",
   "version": "3.7.1"
  }
 },
 "nbformat": 4,
 "nbformat_minor": 2
}
