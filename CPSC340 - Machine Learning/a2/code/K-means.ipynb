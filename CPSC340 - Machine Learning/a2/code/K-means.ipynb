{
 "cells": [
  {
   "cell_type": "code",
   "execution_count": null,
   "metadata": {},
   "outputs": [],
   "source": [
    "# basics\n",
    "import os\n",
    "import pickle\n",
    "import argparse\n",
    "import matplotlib.pyplot as plt\n",
    "import numpy as np\n",
    "\n",
    "from scipy import stats\n",
    "\n",
    "# sklearn imports\n",
    "from sklearn.naive_bayes import BernoulliNB\n",
    "from sklearn.tree import DecisionTreeClassifier\n",
    "from sklearn.ensemble import RandomForestClassifier\n",
    "\n",
    "\n",
    "# our code\n",
    "import utils\n",
    "\n",
    "from knn import KNN\n",
    "\n",
    "from naive_bayes import NaiveBayes\n",
    "\n",
    "from decision_stump import DecisionStumpErrorRate, DecisionStumpEquality, DecisionStumpInfoGain\n",
    "from decision_tree import DecisionTree\n",
    "from random_tree import RandomTree\n",
    "from random_forest import RandomForest\n",
    "\n",
    "from kmeans import Kmeans\n",
    "from sklearn.cluster import DBSCAN\n",
    "\n",
    "def load_dataset(filename):\n",
    "    with open(os.path.join('..','data',filename), 'rb') as f:\n",
    "        return pickle.load(f)"
   ]
  },
  {
   "cell_type": "code",
   "execution_count": 4,
   "metadata": {},
   "outputs": [
    {
     "data": {
      "text/plain": [
       "array([ 1,  2,  3,  4,  5,  6,  7,  8,  9, 10])"
      ]
     },
     "execution_count": 4,
     "metadata": {},
     "output_type": "execute_result"
    }
   ],
   "source": []
  },
  {
   "cell_type": "code",
   "execution_count": null,
   "metadata": {},
   "outputs": [],
   "source": [
    "X = load_dataset('clusterData.pkl')['X']\n",
    "\n",
    "\n",
    "\n",
    "k_vals = np.arange(1,11)\n",
    "err_array = np.ones(10)\n",
    "for j in range(0,10):\n",
    "    error = np.inf\n",
    "    means = None\n",
    "    k = k_vals[j]\n",
    "    for i in range(0,50):\n",
    "        model = Kmeans(k)\n",
    "        model.fit(X)\n",
    "        model_err = model.error(X)\n",
    "        if(model_err < error):\n",
    "            error = model_err\n",
    "            means = model.means\n",
    "    err_array[j] = error\n"
   ]
  },
  {
   "cell_type": "code",
   "execution_count": 9,
   "metadata": {},
   "outputs": [
    {
     "data": {
      "image/png": "[encoded data removed]",
      "text/plain": [
       "<Figure size 720x432 with 1 Axes>"
      ]
     },
     "metadata": {
      "needs_background": "light"
     },
     "output_type": "display_data"
    }
   ],
   "source": [
    "fig1 = plt.figure(figsize=(10, 6))\n",
    "plt.plot(k_vals,err_array, '-or')\n",
    "plt.xlabel('K')\n",
    "plt.ylabel('Error')\n",
    "\n",
    "fname = os.path.join(\"..\", \"figs\", \"kmeans_best_k.png\")\n",
    "plt.savefig(fname)\n"
   ]
  }
 ],
 "metadata": {
  "kernelspec": {
   "display_name": "Python 3",
   "language": "python",
   "name": "python3"
  },
  "language_info": {
   "codemirror_mode": {
    "name": "ipython",
    "version": 3
   },
   "file_extension": ".py",
   "mimetype": "text/x-python",
   "name": "python",
   "nbconvert_exporter": "python",
   "pygments_lexer": "ipython3",
   "version": "3.7.1"
  }
 },
 "nbformat": 4,
 "nbformat_minor": 2
}
