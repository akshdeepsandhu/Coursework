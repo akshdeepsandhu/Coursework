{
 "cells": [
  {
   "cell_type": "markdown",
   "metadata": {},
   "source": [
    "Get the KNN for a given item"
   ]
  },
  {
   "cell_type": "code",
   "execution_count": 2,
   "metadata": {},
   "outputs": [],
   "source": [
    "# basics\n",
    "import argparse\n",
    "import os\n",
    "import pickle\n",
    "import pandas as pd\n",
    "import matplotlib.pyplot as plt\n",
    "import numpy as np\n",
    "from scipy.sparse import csr_matrix as sparse_matrix\n",
    "\n",
    "# sklearn imports\n",
    "from sklearn.model_selection import train_test_split, cross_val_score\n",
    "from sklearn.neighbors import NearestNeighbors\n",
    "from sklearn.preprocessing import normalize\n",
    "\n",
    "# our code\n",
    "import linear_model\n",
    "import utils\n",
    "\n",
    "url_amazon = \"https://www.amazon.com/dp/%s\"\n",
    "\n",
    "def load_dataset(filename):\n",
    "    with open(os.path.join('..','data',filename), 'rb') as f:\n",
    "        return pickle.load(f)"
   ]
  },
  {
   "cell_type": "code",
   "execution_count": 3,
   "metadata": {},
   "outputs": [
    {
     "name": "stdout",
     "output_type": "stream",
     "text": [
      "https://www.amazon.com/dp/B00CFM0P7Y\n"
     ]
    }
   ],
   "source": [
    "filename = \"ratings_Patio_Lawn_and_Garden.csv\"\n",
    "with open(os.path.join(\"..\", \"data\", filename), \"rb\") as f:\n",
    "    ratings = pd.read_csv(f,names=(\"user\",\"item\",\"rating\",\"timestamp\"))\n",
    "X, user_mapper, item_mapper, user_inverse_mapper, item_inverse_mapper, user_ind, item_ind = utils.create_user_item_matrix(ratings)\n",
    "X_binary = X != 0\n",
    "\n",
    "grill_brush = \"B00CFM0P7Y\"\n",
    "grill_brush_ind = item_mapper[grill_brush]\n",
    "grill_brush_vec = X[:,grill_brush_ind]\n",
    "\n",
    "print(url_amazon % grill_brush)"
   ]
  },
  {
   "cell_type": "code",
   "execution_count": 4,
   "metadata": {},
   "outputs": [],
   "source": [
    "def nearest_ids(nbrs_list):\n",
    "    nearest_id = np.empty(len(nbrs_list), dtype='S15')\n",
    "    for key,value in item_inverse_mapper.items():\n",
    "            for i in range(0,len(nbrs_list)):\n",
    "                if key == nbrs_list[i]:\n",
    "                    nearest_id[i] = value \n",
    "    return nearest_id"
   ]
  },
  {
   "cell_type": "markdown",
   "metadata": {},
   "source": [
    "## Eucliadian distance"
   ]
  },
  {
   "cell_type": "code",
   "execution_count": 5,
   "metadata": {},
   "outputs": [
    {
     "name": "stdout",
     "output_type": "stream",
     "text": [
      "(105984, 714791)\n",
      "(714791, 105984)\n"
     ]
    }
   ],
   "source": [
    "#Transpose so KNN iterates over columns not rows\n",
    "X_train = np.transpose(X)\n",
    "print(X_train.shape);print(X.shape)"
   ]
  },
  {
   "cell_type": "code",
   "execution_count": 6,
   "metadata": {},
   "outputs": [
    {
     "name": "stdout",
     "output_type": "stream",
     "text": [
      "[b'B00IJB5MCS' b'B00IJB4MLA' b'B00EXE4O42' b'B00743MZCM' b'B00HVXQY9A']\n"
     ]
    }
   ],
   "source": [
    "#Fit model\n",
    "model = NearestNeighbors(n_neighbors=6)\n",
    "model.fit(X_train)\n",
    "\n",
    "#Apply knn to get the index of the nearest items\n",
    "nbrs = model.kneighbors(np.transpose(grill_brush_vec), n_neighbors=6, return_distance=False)\n",
    "\n",
    "#get the item id's of the nearest items\n",
    "nbrs_idx = nbrs[0]\n",
    "nearest_id = nearest_ids(nbrs_idx)\n",
    "item_list = nearest_id[1:]\n",
    "print(item_list)"
   ]
  },
  {
   "cell_type": "markdown",
   "metadata": {},
   "source": [
    "## Normalized Euclidian Distance"
   ]
  },
  {
   "cell_type": "code",
   "execution_count": 7,
   "metadata": {},
   "outputs": [
    {
     "name": "stdout",
     "output_type": "stream",
     "text": [
      "[b'B00IJB5MCS' b'B00IJB8F3G' b'B00IJB4MLA' b'B00EF45AHU' b'B00EF3YF0Y']\n"
     ]
    }
   ],
   "source": [
    "#Normalize data and train model\n",
    "X_train_norm = normalize(X_train)\n",
    "model_norm = NearestNeighbors(n_neighbors=6)\n",
    "model_norm.fit(X_train_norm)\n",
    "\n",
    "#Knn to get nearest items from normned data\n",
    "nbrs_normed = model_norm.kneighbors(np.transpose(grill_brush_vec), n_neighbors=6, return_distance=False)\n",
    "\n",
    "#Get item id's of nearest items\n",
    "nbrs_idx_norm = nbrs_normed[0]\n",
    "nearest_norm_id = nearest_ids(nbrs_idx_norm)\n",
    "norm_item_list = nearest_norm_id[1:]\n",
    "print(norm_item_list)"
   ]
  },
  {
   "cell_type": "markdown",
   "metadata": {},
   "source": [
    "## Cosine similarity"
   ]
  },
  {
   "cell_type": "code",
   "execution_count": 8,
   "metadata": {},
   "outputs": [
    {
     "name": "stdout",
     "output_type": "stream",
     "text": [
      "[b'B00IJB5MCS' b'B00IJB8F3G' b'B00IJB4MLA' b'B00EF45AHU' b'B00EF3YF0Y']\n"
     ]
    }
   ],
   "source": [
    "#Fit model based on cosine similarity\n",
    "model_cosine = NearestNeighbors(n_neighbors=6,metric='cosine')\n",
    "model_cosine.fit(X_train)\n",
    "\n",
    "#Knn to get nearest items\n",
    "nbrs_cosine = model_cosine.kneighbors(np.transpose(grill_brush_vec), n_neighbors=6, return_distance=False)\n",
    "\n",
    "#Get item id's of nearest items\n",
    "nbrs_idx_cosine = nbrs_cosine[0]\n",
    "nearest_cosine_id = nearest_ids(nbrs_idx_cosine)\n",
    "cosine_item_list = nearest_cosine_id[1:]\n",
    "print(cosine_item_list)"
   ]
  },
  {
   "cell_type": "code",
   "execution_count": 9,
   "metadata": {},
   "outputs": [
    {
     "name": "stdout",
     "output_type": "stream",
     "text": [
      "[ True  True  True  True  True]\n"
     ]
    }
   ],
   "source": [
    "print(cosine_item_list == norm_item_list)"
   ]
  },
  {
   "cell_type": "markdown",
   "metadata": {},
   "source": [
    "## Finding the number of reviews for each item"
   ]
  },
  {
   "cell_type": "code",
   "execution_count": 16,
   "metadata": {},
   "outputs": [
    {
     "name": "stdout",
     "output_type": "stream",
     "text": [
      "['B00IJB5MCS', 'B00IJB4MLA', 'B00EXE4O42', 'B00743MZCM', 'B00HVXQY9A']\n",
      "['B00IJB5MCS', 'B00IJB8F3G', 'B00IJB4MLA', 'B00EF45AHU', 'B00EF3YF0Y']\n",
      "['B00IJB5MCS', 'B00IJB8F3G', 'B00IJB4MLA', 'B00EF45AHU', 'B00EF3YF0Y']\n"
     ]
    }
   ],
   "source": [
    "list1 = [xi.decode() for xi in item_list]\n",
    "list2 = [xi.decode() for xi in cosine_item_list]\n",
    "list3 = [xi.decode() for xi in norm_item_list]\n",
    "print(list1);print(list2);print(list3)"
   ]
  },
  {
   "cell_type": "code",
   "execution_count": 11,
   "metadata": {},
   "outputs": [
    {
     "data": {
      "text/html": [
       "<div>\n",
       "<style scoped>\n",
       "    .dataframe tbody tr th:only-of-type {\n",
       "        vertical-align: middle;\n",
       "    }\n",
       "\n",
       "    .dataframe tbody tr th {\n",
       "        vertical-align: top;\n",
       "    }\n",
       "\n",
       "    .dataframe thead th {\n",
       "        text-align: right;\n",
       "    }\n",
       "</style>\n",
       "<table border=\"1\" class=\"dataframe\">\n",
       "  <thead>\n",
       "    <tr style=\"text-align: right;\">\n",
       "      <th></th>\n",
       "      <th>item</th>\n",
       "      <th>count</th>\n",
       "    </tr>\n",
       "  </thead>\n",
       "  <tbody>\n",
       "    <tr>\n",
       "      <th>10959</th>\n",
       "      <td>B000HCLLMM</td>\n",
       "      <td>3180</td>\n",
       "    </tr>\n",
       "    <tr>\n",
       "      <th>1622</th>\n",
       "      <td>B000071NUS</td>\n",
       "      <td>2348</td>\n",
       "    </tr>\n",
       "    <tr>\n",
       "      <th>400</th>\n",
       "      <td>B00004R9VV</td>\n",
       "      <td>2091</td>\n",
       "    </tr>\n",
       "    <tr>\n",
       "      <th>895</th>\n",
       "      <td>B00004SD7B</td>\n",
       "      <td>1707</td>\n",
       "    </tr>\n",
       "    <tr>\n",
       "      <th>19184</th>\n",
       "      <td>B000WEOQV8</td>\n",
       "      <td>1466</td>\n",
       "    </tr>\n",
       "  </tbody>\n",
       "</table>\n",
       "</div>"
      ],
      "text/plain": [
       "             item  count\n",
       "10959  B000HCLLMM   3180\n",
       "1622   B000071NUS   2348\n",
       "400    B00004R9VV   2091\n",
       "895    B00004SD7B   1707\n",
       "19184  B000WEOQV8   1466"
      ]
     },
     "execution_count": 11,
     "metadata": {},
     "output_type": "execute_result"
    }
   ],
   "source": [
    "items_groups = ratings.groupby(['item']).size().reset_index(name='count')\n",
    "items_groups.sort_values(by='count',ascending=False)[0:5]"
   ]
  },
  {
   "cell_type": "code",
   "execution_count": 12,
   "metadata": {},
   "outputs": [
    {
     "name": "stdout",
     "output_type": "stream",
     "text": [
      "[              item  count\n",
      "103866  B00IJB5MCS     55,               item  count\n",
      "103865  B00IJB4MLA     45,              item  count\n",
      "98897  B00EXE4O42      1,              item  count\n",
      "72226  B00743MZCM      1,               item  count\n",
      "102810  B00HVXQY9A      1]\n",
      "[              item  count\n",
      "103866  B00IJB5MCS     55,               item  count\n",
      "103867  B00IJB8F3G     91,               item  count\n",
      "103865  B00IJB4MLA     45,              item  count\n",
      "98068  B00EF45AHU     66,              item  count\n",
      "98066  B00EF3YF0Y    110]\n"
     ]
    }
   ],
   "source": [
    "count_L1 = [items_groups.loc[items_groups['item'] == xi] for xi in list1]\n",
    "count_L2 = [items_groups.loc[items_groups['item'] == xi] for xi in list2]\n",
    "print(count_L1);print(count_L2)\n",
    "#Makes sense.Cosine same as normalized euclidian. Eculidan looks to find product bought by most similar user, but\n",
    "#cosine takes advantage of normalization and reflects items that are bought by similar user but also takes into\n",
    "#account the relative popularity of an item."
   ]
  },
  {
   "cell_type": "code",
   "execution_count": 13,
   "metadata": {},
   "outputs": [],
   "source": [
    "v1 = np.ones(400)\n",
    "v2 = np.full((100),0.1)\n",
    "v = np.append(v1,v2)"
   ]
  },
  {
   "cell_type": "code",
   "execution_count": 14,
   "metadata": {},
   "outputs": [],
   "source": [
    "v = np.append(v1,v2)"
   ]
  },
  {
   "cell_type": "code",
   "execution_count": 15,
   "metadata": {},
   "outputs": [
    {
     "data": {
      "text/plain": [
       "(500,)"
      ]
     },
     "execution_count": 15,
     "metadata": {},
     "output_type": "execute_result"
    }
   ],
   "source": [
    "v.shape"
   ]
  },
  {
   "cell_type": "code",
   "execution_count": null,
   "metadata": {},
   "outputs": [],
   "source": []
  },
  {
   "cell_type": "code",
   "execution_count": null,
   "metadata": {},
   "outputs": [],
   "source": []
  },
  {
   "cell_type": "code",
   "execution_count": null,
   "metadata": {},
   "outputs": [],
   "source": []
  }
 ],
 "metadata": {
  "kernelspec": {
   "display_name": "Python 3",
   "language": "python",
   "name": "python3"
  },
  "language_info": {
   "codemirror_mode": {
    "name": "ipython",
    "version": 3
   },
   "file_extension": ".py",
   "mimetype": "text/x-python",
   "name": "python",
   "nbconvert_exporter": "python",
   "pygments_lexer": "ipython3",
   "version": "3.7.1"
  }
 },
 "nbformat": 4,
 "nbformat_minor": 2
}
